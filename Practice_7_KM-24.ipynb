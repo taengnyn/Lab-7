{
  "cells": [
    {
      "cell_type": "markdown",
      "metadata": {
        "id": "FMqboNwO4rVs"
      },
      "source": [
        "# **Курс \"Програмування на мові Python\"**"
      ]
    },
    {
      "cell_type": "markdown",
      "metadata": {
        "id": "A2T6MigL5Z06"
      },
      "source": [
        "## **Практичне зайняття №7**\n",
        "\n",
        "### Тема: \"Робота з рядками. Глибокі копії об'єктів.\""
      ]
    },
    {
      "cell_type": "markdown",
      "metadata": {},
      "source": [
        "### **Завдання 1 (3 бали)**\n",
        "\n",
        "Напишіть програму, яка, завхідими даними наведеними у прикладі, - буде виводити форматовану таблицю наступного виглядну:\n",
        "```\n",
        "| Post code | Cost, thouthends USD |  Country  |    City    |       Street       | Build. | App. |            Date            |\n",
        "|-----------+----------------------+-----------+------------+--------------------+--------+------+----------------------------|\n",
        "| 33022     |                0.543 | USA       | New York   | 53rd street        |     44 |  345 | 2020-01-30T11:45:33.654357 |\n",
        "| 33145     |             9563.214 | UK        | London     | 45 yard av.        |      3 |  210 | 1985-04-02T22:45:45.045385 |\n",
        "| 33658     |               85.543 | Australia | Sidney     | Cristmess eve str. |    253 |    3 | 2010-10-10T10:00:00.000000 |\n",
        "| 33854     |                0.010 | Ukraine   | Lutsk      | Soborna str.       |     10 | 5342 | 2008-02-28T23:33:33.000000 |\n",
        "| 33698     |          1000000.000 | USA       | Washington | Columbia str.      |     25 |  222 | 2021-09-29T07:34:01.000143 |\n",
        "``` \n",
        "На що тут варто звернути увагі:\n",
        "- Імена колонок - вирівнювання по центру. Частина колонок із даними мають витрівнювання по лівому краю, інша частина - по правому.\n",
        "- Дотримуйтесь точності відображення таблиці із тим що наведено у прикладі (стосується ширини колонок, всюди є додатковий пробіл щоб дані не прилягали щільно до лінії розмежування колонок).\n",
        "- Дата виведена у так званому ISO форматі (Python має свою підримку цього формату - вам не обов'язково треба своїми руками описувати цей формат, достатньо - загуглити, **бонус +0.5**).\n",
        "- Підказка - дану таблицю можна вивести суто із використанням f-нотації форматованого рядка, **бонус +0.5**.\n",
        "- Зверніть увагу на те, що долари у таблиці відображаються у тисячах. Врахуйте це під час виведення.\n",
        "- Для кращої читаємості кожен кортеж можна розкрити відразу у змінні наступним чином:\n",
        "```\n",
        "for line in data:\n",
        "    (post_code, cost, country, city, street, build, app, dt) = line\n",
        "    # print(post_code)\n",
        "```"
      ]
    },
    {
      "cell_type": "code",
      "execution_count": 1,
      "metadata": {},
      "outputs": [],
      "source": [
        "from datetime import datetime\n",
        "\n",
        "data = [\n",
        "    (\"Post code\", \"Cost, thouthends USD\", \"Country\", \"City\", \"Street\", \"Build.\", \"App.\", \"Date\"),\n",
        "    (33022, 543.67, 'USA', 'New York', '53rd street', 44, 345, datetime(2020, 1, 30, 11, 45, 33, 654357)),\n",
        "    (33145, 9563214.67555478, 'UK', 'London', '45 yard av.', 3, 210, datetime(1985, 4, 2, 22, 45, 45, 45385)),\n",
        "    (33658, 85543, 'Australia', 'Sidney', 'Cristmess eve str.', 235, 3, datetime(2010, 10, 10, 10)),\n",
        "    (33854, 10, 'Ukraine', 'Lutsk', 'Soborna str.', 10, 5342, datetime(2008, 2, 28, 23, 33, 33)),\n",
        "    (33698, 1000000000.01, 'USA', 'Washington', 'Columbia str.', 25, 222, datetime(2021, 9, 29, 7, 34, 1, 143)),\n",
        "]"
      ]
    }
  ],
  "metadata": {
    "colab": {
      "collapsed_sections": [
        "LyWSBl0DOxJ8",
        "5qzvb1n_va3D",
        "fRXqCrBOmwAX"
      ],
      "name": "Practice_6.ipynb",
      "provenance": []
    },
    "kernelspec": {
      "display_name": "Python 3.10.2 64-bit",
      "language": "python",
      "name": "python3"
    },
    "language_info": {
      "codemirror_mode": {
        "name": "ipython",
        "version": 3
      },
      "file_extension": ".py",
      "mimetype": "text/x-python",
      "name": "python",
      "nbconvert_exporter": "python",
      "pygments_lexer": "ipython3",
      "version": "3.10.2"
    },
    "vscode": {
      "interpreter": {
        "hash": "26de051ba29f2982a8de78e945f0abaf191376122a1563185a90213a26c5da77"
      }
    }
  },
  "nbformat": 4,
  "nbformat_minor": 0
}
